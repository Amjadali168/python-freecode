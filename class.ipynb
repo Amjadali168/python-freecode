{
 "cells": [
  {
   "cell_type": "code",
   "execution_count": 4,
   "metadata": {},
   "outputs": [
    {
     "name": "stdout",
     "output_type": "stream",
     "text": [
      "10\n"
     ]
    }
   ],
   "source": [
    "class DemoClass:\n",
    "    a=10\n",
    "demoobject = DemoClass()\n",
    "print (demoobject.a)"
   ]
  },
  {
   "cell_type": "code",
   "execution_count": 6,
   "metadata": {},
   "outputs": [
    {
     "name": "stdout",
     "output_type": "stream",
     "text": [
      "10\n",
      "10\n",
      "50\n"
     ]
    }
   ],
   "source": [
    "class DemoClass:\n",
    "    a=10\n",
    "\n",
    "    def sumvalue(self): # it is a method inside a class\n",
    "        print (20+30)\n",
    "\n",
    "demoobject=DemoClass()\n",
    "demoobject1=DemoClass()\n",
    "print (demoobject.a)\n",
    "print (demoobject1.a)\n",
    "demoobject.sumvalue(); # here we call the function with the object\n",
    "# we can call function and variables with the use of object "
   ]
  },
  {
   "cell_type": "code",
   "execution_count": 1,
   "metadata": {},
   "outputs": [
    {
     "name": "stdout",
     "output_type": "stream",
     "text": [
      "<class '__main__.Dog'>\n"
     ]
    }
   ],
   "source": [
    "class Dog:\n",
    "   def bark(self):\n",
    "        print(\"woof!\")\n",
    "        \n",
    "roger = Dog()\n",
    "\n",
    "print(type(roger))"
   ]
  },
  {
   "cell_type": "code",
   "execution_count": 3,
   "metadata": {},
   "outputs": [
    {
     "name": "stdout",
     "output_type": "stream",
     "text": [
      "Roger\n",
      "8\n",
      "woof!\n"
     ]
    }
   ],
   "source": [
    "class Dog:\n",
    "   def __init__(self, name, age):\n",
    "       self.name = name\n",
    "       self.age = age\n",
    "\n",
    "   def bark(self):\n",
    "       print(\"woof!\")\n",
    "roger = Dog(\"Roger\", 8)\n",
    "\n",
    "\n",
    "print (roger.name)\n",
    "print (roger.age)\n",
    "roger.bark()"
   ]
  }
 ],
 "metadata": {
  "kernelspec": {
   "display_name": "Python 3.11.4 ('base')",
   "language": "python",
   "name": "python3"
  },
  "language_info": {
   "codemirror_mode": {
    "name": "ipython",
    "version": 3
   },
   "file_extension": ".py",
   "mimetype": "text/x-python",
   "name": "python",
   "nbconvert_exporter": "python",
   "pygments_lexer": "ipython3",
   "version": "3.11.4"
  },
  "orig_nbformat": 4,
  "vscode": {
   "interpreter": {
    "hash": "4fd43f647e67c5bac92e28557b42152749fead6d7b9e8c70c84aca8e8e2f23dd"
   }
  }
 },
 "nbformat": 4,
 "nbformat_minor": 2
}
