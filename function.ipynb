{
 "cells": [
  {
   "cell_type": "code",
   "execution_count": 2,
   "metadata": {},
   "outputs": [
    {
     "name": "stdout",
     "output_type": "stream",
     "text": [
      "Hello|\n",
      "Hello|\n",
      "Hello|\n"
     ]
    }
   ],
   "source": [
    "# Functions\n",
    "def hello():\n",
    "    print('Hello|')\n",
    "hello()\n",
    "hello()\n",
    "hello()"
   ]
  },
  {
   "cell_type": "code",
   "execution_count": 5,
   "metadata": {},
   "outputs": [
    {
     "name": "stdout",
     "output_type": "stream",
     "text": [
      "Hello Aman\n",
      "Hello Quincy\n"
     ]
    }
   ],
   "source": [
    "# Functions\n",
    "def hello(name):\n",
    "    print('Hello ' + name)\n",
    "hello(\"Aman\")\n",
    "hello(\"Quincy\")"
   ]
  },
  {
   "cell_type": "code",
   "execution_count": 7,
   "metadata": {},
   "outputs": [
    {
     "name": "stdout",
     "output_type": "stream",
     "text": [
      "Hello Beau\n",
      "Hello Quincy\n",
      "Hello my friend\n"
     ]
    }
   ],
   "source": [
    "def hello(name=\"my friend\"):\n",
    "    print(\"Hello \" + name)\n",
    "hello( \"Beau\")\n",
    "hello(\"Quincy\")\n",
    "hello()  # in this case we have given the argument value my friend so it takes value from that by default"
   ]
  },
  {
   "cell_type": "code",
   "execution_count": 8,
   "metadata": {},
   "outputs": [
    {
     "name": "stdout",
     "output_type": "stream",
     "text": [
      "Hello Beau, you are 39 years old!\n"
     ]
    }
   ],
   "source": [
    "def hello(name, age):\n",
    "    print(\"Hello \" + name + \", you are \" + str(age) + \" years old!\")\n",
    "\n",
    "hello(\"Beau\", 39)"
   ]
  },
  {
   "cell_type": "code",
   "execution_count": 9,
   "metadata": {},
   "outputs": [
    {
     "name": "stdout",
     "output_type": "stream",
     "text": [
      "I\n",
      "am\n",
      "going\n",
      "to\n",
      "buy\n",
      "the\n",
      "milk\n"
     ]
    }
   ],
   "source": [
    "def talk(phrase):\n",
    "   def say(word):\n",
    "    print (word)\n",
    "   words=phrase.split(' ')\n",
    "   for word in words:\n",
    "     say (word)\n",
    "talk( 'I am going to buy the milk')"
   ]
  },
  {
   "cell_type": "code",
   "execution_count": 12,
   "metadata": {},
   "outputs": [
    {
     "name": "stdout",
     "output_type": "stream",
     "text": [
      "1\n",
      "2\n"
     ]
    }
   ],
   "source": [
    "def count():\n",
    "    count = 0\n",
    "    def increment():\n",
    "       nonlocal count\n",
    "       count = count + 1\n",
    "       print(count)\n",
    "    increment()\n",
    "    increment()\n",
    "count()"
   ]
  },
  {
   "cell_type": "code",
   "execution_count": 15,
   "metadata": {},
   "outputs": [
    {
     "name": "stdout",
     "output_type": "stream",
     "text": [
      "1\n",
      "2\n",
      "3\n"
     ]
    }
   ],
   "source": [
    "def counter():\n",
    "    count = 0\n",
    "    def increment():\n",
    "        nonlocal count\n",
    "        count = count + 1\n",
    "        return count\n",
    "    return increment\n",
    "increment = counter()\n",
    "print (increment()) #1\n",
    "print(increment())  #2\n",
    "print(increment())  #3"
   ]
  }
 ],
 "metadata": {
  "kernelspec": {
   "display_name": "Python 3.11.4 ('base')",
   "language": "python",
   "name": "python3"
  },
  "language_info": {
   "codemirror_mode": {
    "name": "ipython",
    "version": 3
   },
   "file_extension": ".py",
   "mimetype": "text/x-python",
   "name": "python",
   "nbconvert_exporter": "python",
   "pygments_lexer": "ipython3",
   "version": "3.11.4"
  },
  "orig_nbformat": 4,
  "vscode": {
   "interpreter": {
    "hash": "4fd43f647e67c5bac92e28557b42152749fead6d7b9e8c70c84aca8e8e2f23dd"
   }
  }
 },
 "nbformat": 4,
 "nbformat_minor": 2
}
