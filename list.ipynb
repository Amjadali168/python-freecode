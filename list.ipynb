{
 "cells": [
  {
   "cell_type": "code",
   "execution_count": null,
   "metadata": {},
   "outputs": [],
   "source": [
    "dogs = ['bravo',1, 'tom', True]\n",
    "print('bravo' in dogs)\n",
    "print(dogs)\n",
    "print(dogs[1])\n",
    "print(dogs[2])\n",
    "print(dogs[-2])\n"
   ]
  },
  {
   "cell_type": "code",
   "execution_count": 19,
   "metadata": {},
   "outputs": [
    {
     "name": "stdout",
     "output_type": "stream",
     "text": [
      "['bravo', 1, 'tom', 'tommy', 'Udi', 'Jerry']\n",
      "['tom', 'tommy']\n",
      "['bravo', 1, 'tom', 'tommy', 'Udi']\n",
      "['bravo', 1, 'tom', 'tommy', 'Udi', 'Jerry']\n"
     ]
    }
   ],
   "source": [
    "dogs = ['bravo',1, 'tom', True, 'Udi', 'Jerry']\n",
    "dogs[3] = 'tommy' # on index 3 it will print tommy\n",
    "print(dogs)\n",
    "print(dogs[2:4])\n",
    "print(dogs[:5])\n",
    "print(dogs[:])"
   ]
  },
  {
   "cell_type": "code",
   "execution_count": 21,
   "metadata": {},
   "outputs": [
    {
     "name": "stdout",
     "output_type": "stream",
     "text": [
      "6\n"
     ]
    }
   ],
   "source": [
    "print(len(dogs))"
   ]
  },
  {
   "cell_type": "code",
   "execution_count": 22,
   "metadata": {},
   "outputs": [
    {
     "name": "stdout",
     "output_type": "stream",
     "text": [
      "['bravo', 1, 'tom', 'tommy', 'Udi', 'Jerry', 'micky']\n"
     ]
    }
   ],
   "source": [
    "dogs.append(\"micky\")\n",
    "print(dogs)"
   ]
  },
  {
   "cell_type": "code",
   "execution_count": 23,
   "metadata": {},
   "outputs": [
    {
     "name": "stdout",
     "output_type": "stream",
     "text": [
      "['bravo', 1, 'tom', 'tommy', 'Udi', 'Jerry', 'micky', 2, 3, 4, 5, 2, 3, 4, 5, 'm', 'i', 'c', 'k', 'y']\n"
     ]
    }
   ],
   "source": [
    "dogs.extend([2, 3, 4, 5])\n",
    "dogs += ([2, 3, 4, 5]) # using this we can also extend the list\n",
    "dogs += \"micky\"\n",
    "print(dogs)"
   ]
  },
  {
   "cell_type": "code",
   "execution_count": 32,
   "metadata": {},
   "outputs": [
    {
     "name": "stdout",
     "output_type": "stream",
     "text": [
      "['bravo', 1, 'play', 'tom', True, 'Jerry']\n"
     ]
    }
   ],
   "source": [
    "list = ['bravo',1, 'tom', True, 'Udi', 'Jerry']\n",
    "list.remove('Udi')\n",
    "list.insert(2,'play')\n",
    "print(list)"
   ]
  }
 ],
 "metadata": {
  "kernelspec": {
   "display_name": "Python 3.11.4 ('base')",
   "language": "python",
   "name": "python3"
  },
  "language_info": {
   "codemirror_mode": {
    "name": "ipython",
    "version": 3
   },
   "file_extension": ".py",
   "mimetype": "text/x-python",
   "name": "python",
   "nbconvert_exporter": "python",
   "pygments_lexer": "ipython3",
   "version": "3.11.4"
  },
  "orig_nbformat": 4,
  "vscode": {
   "interpreter": {
    "hash": "4fd43f647e67c5bac92e28557b42152749fead6d7b9e8c70c84aca8e8e2f23dd"
   }
  }
 },
 "nbformat": 4,
 "nbformat_minor": 2
}
