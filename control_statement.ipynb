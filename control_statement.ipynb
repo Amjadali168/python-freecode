{
 "cells": [
  {
   "cell_type": "code",
   "execution_count": null,
   "metadata": {},
   "outputs": [],
   "source": [
    "condition = True\n",
    "\n",
    "if condition == True:\n",
    "    print(\"Condition is true\")\n",
    "\n",
    "print(\"Outside if statement\")"
   ]
  },
  {
   "cell_type": "code",
   "execution_count": null,
   "metadata": {},
   "outputs": [],
   "source": [
    "condition = False\n",
    "\n",
    "if condition == True:\n",
    "    print(\"condition is true\")\n",
    "else:\n",
    "    print(\"condition is false\")\n"
   ]
  },
  {
   "cell_type": "code",
   "execution_count": null,
   "metadata": {},
   "outputs": [],
   "source": [
    "condition = False\n",
    "name = \"Roger\"\n",
    "\n",
    "if condition == True:\n",
    "  print(\"The condition\")\n",
    "  print(\"was True\")\n",
    "elif name == \"Roger\":\n",
    "  print(\"Hello Roger\")\n",
    "elif name == \"Syd\":\n",
    "  print(\"Hello Syd\")\n",
    "elif name == \"Flavio\":\n",
    "  print(\"Hello Flavio\")\n",
    "else:\n",
    "    print(\"condition is false\")"
   ]
  }
 ],
 "metadata": {
  "kernelspec": {
   "display_name": "Python 3.11.4 ('base')",
   "language": "python",
   "name": "python3"
  },
  "language_info": {
   "codemirror_mode": {
    "name": "ipython",
    "version": 3
   },
   "file_extension": ".py",
   "mimetype": "text/x-python",
   "name": "python",
   "nbconvert_exporter": "python",
   "pygments_lexer": "ipython3",
   "version": "3.11.4"
  },
  "orig_nbformat": 4,
  "vscode": {
   "interpreter": {
    "hash": "4fd43f647e67c5bac92e28557b42152749fead6d7b9e8c70c84aca8e8e2f23dd"
   }
  }
 },
 "nbformat": 4,
 "nbformat_minor": 2
}
