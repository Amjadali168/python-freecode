{
 "cells": [
  {
   "cell_type": "code",
   "execution_count": 4,
   "metadata": {},
   "outputs": [
    {
     "name": "stdout",
     "output_type": "stream",
     "text": [
      "Beau\n",
      "0\n",
      "3\n",
      "True\n",
      "('Roger', 'Syd')\n",
      "['Beau', 'Roger', 'Syd']\n"
     ]
    }
   ],
   "source": [
    "# Tuples\n",
    "names = (\"Roger\", \"Syd\", \"Beau\")\n",
    "print(names [-1])\n",
    "print(names.index(\"Roger\"))\n",
    "print(len (names))\n",
    "\n",
    "print(\"Roger\" in names)\n",
    "print(names [0:2])\n",
    "print(sorted(names))"
   ]
  }
 ],
 "metadata": {
  "kernelspec": {
   "display_name": "Python 3.11.4 ('base')",
   "language": "python",
   "name": "python3"
  },
  "language_info": {
   "codemirror_mode": {
    "name": "ipython",
    "version": 3
   },
   "file_extension": ".py",
   "mimetype": "text/x-python",
   "name": "python",
   "nbconvert_exporter": "python",
   "pygments_lexer": "ipython3",
   "version": "3.11.4"
  },
  "orig_nbformat": 4,
  "vscode": {
   "interpreter": {
    "hash": "4fd43f647e67c5bac92e28557b42152749fead6d7b9e8c70c84aca8e8e2f23dd"
   }
  }
 },
 "nbformat": 4,
 "nbformat_minor": 2
}
